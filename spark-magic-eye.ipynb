{
 "cells": [
  {
   "cell_type": "markdown",
   "id": "cf09f9d2",
   "metadata": {},
   "source": [
    "# Requirements\n",
    "\n",
    "tensorflow 2\n",
    "petastorm==0.9.0\n",
    "pyarrow==0.15.0\n",
    "\n",
    "Node type: one driver and two workers. Databricks recommends using GPU instances.\n",
    "\n",
    "```python\n",
    "!pip install pyspark\n",
    "!pip install petastorm\n",
    "!pip install pyarrow\n",
    "!pip install horovod[tensorflow,keras,pytorch,mxnet,spark]\n",
    "```\n",
    "Running models for development 283Mb shape images train-shapes-dev.tgz representing a 10% of the dataset\n"
   ]
  },
  {
   "cell_type": "code",
   "execution_count": 1,
   "id": "f61c7786",
   "metadata": {},
   "outputs": [],
   "source": [
    "import tensorflow as tf"
   ]
  },
  {
   "cell_type": "code",
   "execution_count": 11,
   "id": "48d53dc2",
   "metadata": {},
   "outputs": [],
   "source": [
    "from pyspark.sql import SparkSession\n",
    "from pyspark.sql.functions import col\n",
    "from petastorm import spark\n",
    "from petastorm.spark import SparkDatasetConverter, make_spark_converter\n",
    "import io\n",
    "import numpy as np\n",
    "import tensorflow as tf\n",
    "from PIL import Image\n",
    "from petastorm import TransformSpec\n",
    "from tensorflow import keras\n",
    "from tensorflow.keras.applications.mobilenet_v2 import MobileNetV2, preprocess_input\n",
    " \n",
    "from hyperopt import fmin, tpe, hp, SparkTrials, STATUS_OK\n"
   ]
  },
  {
   "cell_type": "code",
   "execution_count": 3,
   "id": "61d17c82",
   "metadata": {},
   "outputs": [],
   "source": [
    "IMG_SHAPE = (1024, 1024, 3)\n",
    "BATCH_SIZE = 32\n",
    "NUM_EPOCHS = 5"
   ]
  },
  {
   "cell_type": "code",
   "execution_count": 4,
   "id": "c7d71318",
   "metadata": {},
   "outputs": [],
   "source": [
    "train_file = \"train-shapes-dev.tgz\"\n",
    "keras_ds_fname = \"train_shapes_dev\""
   ]
  },
  {
   "cell_type": "markdown",
   "id": "67bac681",
   "metadata": {},
   "source": [
    "Download training data set from hdfs"
   ]
  },
  {
   "cell_type": "code",
   "execution_count": 5,
   "id": "87fe657a",
   "metadata": {},
   "outputs": [
    {
     "name": "stdout",
     "output_type": "stream",
     "text": [
      "Downloading data from http://localhost:9870/webhdfs/v1/random-dot/train-data/train-shapes-dev.tgz?op=OPEN\n",
      "297093698/297093698 [==============================] - 6s 0us/step\n"
     ]
    }
   ],
   "source": [
    "import pathlib\n",
    "dataset_url = f\"http://localhost:9870/webhdfs/v1/random-dot/train-data/{train_file}?op=OPEN\"\n",
    "data_dir = tf.keras.utils.get_file(origin=dataset_url,\n",
    "                                   fname=keras_ds_fname,\n",
    "                                   untar=True)\n",
    "data_dir = pathlib.Path(data_dir)"
   ]
  },
  {
   "cell_type": "code",
   "execution_count": 12,
   "id": "dfe3c03d",
   "metadata": {},
   "outputs": [],
   "source": [
    "# Start spark session and read data into delta DataFrame"
   ]
  },
  {
   "cell_type": "code",
   "execution_count": 14,
   "id": "931cc488",
   "metadata": {},
   "outputs": [
    {
     "ename": "NameError",
     "evalue": "name 'SparkConf' is not defined",
     "output_type": "error",
     "traceback": [
      "\u001b[1;31m---------------------------------------------------------------------------\u001b[0m",
      "\u001b[1;31mNameError\u001b[0m                                 Traceback (most recent call last)",
      "Cell \u001b[1;32mIn [14], line 1\u001b[0m\n\u001b[1;32m----> 1\u001b[0m conf \u001b[38;5;241m=\u001b[39m \u001b[43mSparkConf\u001b[49m()\u001b[38;5;241m.\u001b[39msetAppName(\u001b[38;5;124m'\u001b[39m\u001b[38;5;124mrandom-dot\u001b[39m\u001b[38;5;124m'\u001b[39m)\u001b[38;5;241m.\u001b[39msetMaster(\u001b[38;5;124m'\u001b[39m\u001b[38;5;124mspark://16087a9ad851:7077\u001b[39m\u001b[38;5;124m'\u001b[39m)\n\u001b[0;32m      2\u001b[0m spark \u001b[38;5;241m=\u001b[39m SparkSession\u001b[38;5;241m.\u001b[39mbuilder\u001b[38;5;241m.\u001b[39mgetOrCreate()\n\u001b[0;32m      3\u001b[0m df \u001b[38;5;241m=\u001b[39m spark\u001b[38;5;241m.\u001b[39mread\u001b[38;5;241m.\u001b[39mformat(\u001b[38;5;124m\"\u001b[39m\u001b[38;5;124mdelta\u001b[39m\u001b[38;5;124m\"\u001b[39m)\u001b[38;5;241m.\u001b[39mload(data_dir)\u001b[38;5;241m.\u001b[39mselect(col(\u001b[38;5;124m\"\u001b[39m\u001b[38;5;124mcontent\u001b[39m\u001b[38;5;124m\"\u001b[39m), col(\u001b[38;5;124m\"\u001b[39m\u001b[38;5;124mlabel\u001b[39m\u001b[38;5;124m\"\u001b[39m))\n",
      "\u001b[1;31mNameError\u001b[0m: name 'SparkConf' is not defined"
     ]
    }
   ],
   "source": [
    "conf = SparkConf().setAppName('random-dot').setMaster('spark://16087a9ad851:7077')\n",
    "spark = SparkSession.builder.getOrCreate()\n",
    "df = spark.read.format(\"delta\").load(data_dir).select(col(\"content\"), col(\"label\"))"
   ]
  }
 ],
 "metadata": {
  "kernelspec": {
   "display_name": "ca3",
   "language": "python",
   "name": "ca3"
  },
  "language_info": {
   "codemirror_mode": {
    "name": "ipython",
    "version": 3
   },
   "file_extension": ".py",
   "mimetype": "text/x-python",
   "name": "python",
   "nbconvert_exporter": "python",
   "pygments_lexer": "ipython3",
   "version": "3.9.13"
  }
 },
 "nbformat": 4,
 "nbformat_minor": 5
}
