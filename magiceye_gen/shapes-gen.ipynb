{
 "cells": [
  {
   "cell_type": "code",
   "execution_count": 2,
   "metadata": {},
   "outputs": [],
   "source": [
    "#!/usr/bin/python\n",
    "# Shapes available form https://www.kaggle.com/datasets/gonzalorecioc/color-polygon-images\n",
    "\n",
    "# Prereqs\n",
    "# pip install tensorflow"
   ]
  },
  {
   "cell_type": "code",
   "execution_count": 3,
   "metadata": {},
   "outputs": [],
   "source": [
    "from magicpy import autostereogram_from_image, autostereogram_from_file_path\n",
    "import numpy\n",
    "import math\n",
    "import pandas as pd\n",
    "from PIL import Image\n",
    "from os.path import exists\n",
    "from os import path, mkdir\n",
    "# TensorFlow and tf.keras\n",
    "import tensorflow as tf\n",
    "from tensorflow import keras\n",
    "\n",
    "# Helper libraries\n",
    "import numpy as np\n",
    "import matplotlib.pyplot as plt\n",
    "from keras.preprocessing.image import load_img, img_to_array, image_dataset_from_directory\n"
   ]
  },
  {
   "cell_type": "markdown",
   "metadata": {},
   "source": []
  },
  {
   "cell_type": "code",
   "execution_count": 4,
   "metadata": {},
   "outputs": [
    {
     "name": "stdout",
     "output_type": "stream",
     "text": [
      "Found 14970 files belonging to 4 classes.\n"
     ]
    }
   ],
   "source": [
    "batch_size = 5\n",
    "dataset_images = image_dataset_from_directory(directory=\"shapes/data\", color_mode='grayscale', batch_size=batch_size, image_size=(1024, 1024))"
   ]
  },
  {
   "cell_type": "code",
   "execution_count": 5,
   "metadata": {},
   "outputs": [],
   "source": [
    "# class_names = dataset_images.class_names\n",
    "# x=0\n",
    "# for images, labels in dataset_images.take(1):\n",
    "#   for i in range(batch_size):\n",
    "#     x+=1\n",
    "#     className = class_names[labels[i]]\n",
    "#     baseDir = \"shapes/stereograms\"\n",
    "#     outputDir=f\"{baseDir}/{className}\"\n",
    "    \n",
    "#     if not path.exists(baseDir):\n",
    "#         mkdir(baseDir)\n",
    "\n",
    "#     if not path.exists(outputDir):\n",
    "#         mkdir(outputDir)\n",
    "#     img = tf.keras.utils.array_to_img(images[i])\n",
    "#     autostereogram_from_image(img, output=f\"{outputDir}/{className}_{x}.png\", pattern_div=8, invert=1)\n",
    "\n",
    "  \n"
   ]
  },
  {
   "cell_type": "code",
   "execution_count": 10,
   "metadata": {},
   "outputs": [
    {
     "name": "stdout",
     "output_type": "stream",
     "text": [
      "Found 14970 files belonging to 4 classes.\n"
     ]
    },
    {
     "ename": "KeyboardInterrupt",
     "evalue": "",
     "output_type": "error",
     "traceback": [
      "\u001b[1;31m---------------------------------------------------------------------------\u001b[0m",
      "\u001b[1;31mKeyboardInterrupt\u001b[0m                         Traceback (most recent call last)",
      "\u001b[1;32m~\\AppData\\Local\\Temp/ipykernel_17988/546462286.py\u001b[0m in \u001b[0;36m<module>\u001b[1;34m\u001b[0m\n\u001b[0;32m     22\u001b[0m \u001b[1;33m\u001b[0m\u001b[0m\n\u001b[0;32m     23\u001b[0m             \u001b[0moutput\u001b[0m\u001b[1;33m=\u001b[0m\u001b[1;34mf\"{outputDir}/{className}_{x}.png\"\u001b[0m\u001b[1;33m\u001b[0m\u001b[1;33m\u001b[0m\u001b[0m\n\u001b[1;32m---> 24\u001b[1;33m             \u001b[0mautostereogram_from_image\u001b[0m\u001b[1;33m(\u001b[0m\u001b[0mimg\u001b[0m\u001b[1;33m,\u001b[0m \u001b[0moutput\u001b[0m\u001b[1;33m=\u001b[0m\u001b[0moutput\u001b[0m\u001b[1;33m,\u001b[0m \u001b[0mpattern_div\u001b[0m\u001b[1;33m=\u001b[0m\u001b[1;36m8\u001b[0m\u001b[1;33m,\u001b[0m \u001b[0minvert\u001b[0m\u001b[1;33m=\u001b[0m\u001b[1;36m1\u001b[0m\u001b[1;33m)\u001b[0m\u001b[1;33m\u001b[0m\u001b[1;33m\u001b[0m\u001b[0m\n\u001b[0m\u001b[0;32m     25\u001b[0m \u001b[1;33m\u001b[0m\u001b[0m\n\u001b[0;32m     26\u001b[0m \u001b[1;33m\u001b[0m\u001b[0m\n",
      "\u001b[1;32mc:\\Users\\rmsry\\Data_Analytics\\CA3\\random-dot\\magiceye_gen\\magicpy\\magicpy.py\u001b[0m in \u001b[0;36mautostereogram_from_image\u001b[1;34m(image, output, pattern_div, invert, resize)\u001b[0m\n\u001b[0;32m     57\u001b[0m                 \u001b[0mout_data\u001b[0m\u001b[1;33m[\u001b[0m\u001b[0mx\u001b[0m\u001b[1;33m,\u001b[0m \u001b[0my\u001b[0m\u001b[1;33m]\u001b[0m \u001b[1;33m=\u001b[0m \u001b[0mint\u001b[0m\u001b[1;33m(\u001b[0m\u001b[0mpattern\u001b[0m\u001b[1;33m[\u001b[0m\u001b[0mx\u001b[0m\u001b[1;33m,\u001b[0m \u001b[0my\u001b[0m\u001b[1;33m]\u001b[0m\u001b[1;33m)\u001b[0m  \u001b[1;31m# Use generated pattern\u001b[0m\u001b[1;33m\u001b[0m\u001b[1;33m\u001b[0m\u001b[0m\n\u001b[0;32m     58\u001b[0m             \u001b[1;32melse\u001b[0m\u001b[1;33m:\u001b[0m\u001b[1;33m\u001b[0m\u001b[1;33m\u001b[0m\u001b[0m\n\u001b[1;32m---> 59\u001b[1;33m                 \u001b[0mshift\u001b[0m \u001b[1;33m=\u001b[0m \u001b[0mdepth_data\u001b[0m\u001b[1;33m[\u001b[0m\u001b[0mx\u001b[0m\u001b[1;33m,\u001b[0m \u001b[0my\u001b[0m\u001b[1;33m]\u001b[0m\u001b[1;33m[\u001b[0m\u001b[1;36m0\u001b[0m\u001b[1;33m]\u001b[0m \u001b[1;33m/\u001b[0m \u001b[0mpattern_div\u001b[0m  \u001b[1;31m# 255 is closest\u001b[0m\u001b[1;33m\u001b[0m\u001b[1;33m\u001b[0m\u001b[0m\n\u001b[0m\u001b[0;32m     60\u001b[0m                 \u001b[0mout_data\u001b[0m\u001b[1;33m[\u001b[0m\u001b[0mx\u001b[0m\u001b[1;33m,\u001b[0m \u001b[0my\u001b[0m\u001b[1;33m]\u001b[0m \u001b[1;33m=\u001b[0m \u001b[0mout_data\u001b[0m\u001b[1;33m[\u001b[0m\u001b[0mx\u001b[0m \u001b[1;33m-\u001b[0m \u001b[0mpattern_width\u001b[0m \u001b[1;33m+\u001b[0m \u001b[1;33m(\u001b[0m\u001b[0mshift\u001b[0m \u001b[1;33m*\u001b[0m \u001b[0minvert\u001b[0m\u001b[1;33m)\u001b[0m\u001b[1;33m,\u001b[0m \u001b[0my\u001b[0m\u001b[1;33m]\u001b[0m\u001b[1;33m\u001b[0m\u001b[1;33m\u001b[0m\u001b[0m\n\u001b[0;32m     61\u001b[0m \u001b[1;33m\u001b[0m\u001b[0m\n",
      "\u001b[1;31mKeyboardInterrupt\u001b[0m: "
     ]
    }
   ],
   "source": [
    "batch_size = 5\n",
    "dataset_images = image_dataset_from_directory(directory=\"shapes/data\", color_mode='grayscale', batch_size=batch_size)\n",
    "iterator = iter(dataset_images)\n",
    "class_names = dataset_images.class_names\n",
    "x = 0\n",
    "try: \n",
    "    # Keep running next_batch till the Dataset is exhausted\n",
    "    while True:\n",
    "        images, labels = iterator.get_next()\n",
    "        for i in range(batch_size):\n",
    "            x+=1\n",
    "            className = class_names[labels[i]]\n",
    "            baseDir = \"shapes/stereograms\"\n",
    "            outputDir=f\"{baseDir}/{className}\"\n",
    "            \n",
    "            if not path.exists(baseDir):\n",
    "                mkdir(baseDir)\n",
    "\n",
    "            if not path.exists(outputDir):\n",
    "                mkdir(outputDir)\n",
    "            img = tf.keras.utils.array_to_img(images[i])\n",
    "\n",
    "            output=f\"{outputDir}/{className}_{x}.png\"\n",
    "            autostereogram_from_image(img, output=output, pattern_div=8, invert=1)\n",
    "            \n",
    "        \n",
    "except tf.errors.OutOfRangeError:\n",
    "    pass"
   ]
  }
 ],
 "metadata": {
  "kernelspec": {
   "display_name": "Python 3.10.4 ('ca3_env')",
   "language": "python",
   "name": "python3"
  },
  "language_info": {
   "codemirror_mode": {
    "name": "ipython",
    "version": 3
   },
   "file_extension": ".py",
   "mimetype": "text/x-python",
   "name": "python",
   "nbconvert_exporter": "python",
   "pygments_lexer": "ipython3",
   "version": "3.10.4"
  },
  "orig_nbformat": 4,
  "vscode": {
   "interpreter": {
    "hash": "669fffd80fa07a012060144a8b2c952fefec811d1058caf3d738073fcc04e0fa"
   }
  }
 },
 "nbformat": 4,
 "nbformat_minor": 2
}
